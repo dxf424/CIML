{
 "cells": [
  {
   "cell_type": "code",
   "execution_count": 1,
   "metadata": {},
   "outputs": [
    {
     "name": "stderr",
     "output_type": "stream",
     "text": [
      "2022-08-09 23:44:31.534522: I tensorflow/stream_executor/platform/default/dso_loader.cc:49] Successfully opened dynamic library libcudart.so.11.0\n",
      "Using TensorFlow backend.\n"
     ]
    }
   ],
   "source": [
    "import sys\n",
    "import os\n",
    "import yaml\n",
    "import pandas as pd\n",
    "import numpy as np\n",
    "import netCDF4 as nc\n",
    "from os.path import exists, join\n",
    "import tensorflow as tf\n",
    "from goes16ci.data import load_data_serial\n",
    "from goes16ci.models import train_conv_net_cpu, train_conv_net_gpu, MinMaxScaler2D\n",
    "from goes16ci.monitor import Monitor, start_timing, end_timing, get_gpu_names, get_gpu_topo, get_cuda_version, get_cudnn_version, get_nccl_version\n",
    "import argparse\n",
    "import logging\n",
    "from datetime import datetime\n",
    "import platform\n",
    "from multiprocessing import Pipe, Process\n",
    "import traceback\n",
    "import pickle\n",
    "from sklearn.utils import class_weight\n",
    "from os import listdir\n",
    "from os.path import isfile, join\n",
    "import time\n",
    "import matplotlib.pyplot as plt\n",
    "import warnings\n",
    "warnings.filterwarnings('ignore')\n",
    "sys.path.append('/storage/home/dxf424/work/script/course_repository/')\n",
    "from ai2es_xai_course.plotting import image_plotting, feature_map_plotting\n",
    "from ai2es_xai_course.utils import utils, image_utils, image_normalization, \\\n",
    "    image_thresholding, cnn, saliency\n",
    "import keras "
   ]
  },
  {
   "cell_type": "code",
   "execution_count": 2,
   "metadata": {},
   "outputs": [],
   "source": [
    "import tensorflow as tf\n",
    "tf.compat.v1.disable_eager_execution()\n",
    "tf.compat.v1.experimental.output_all_intermediates(True)"
   ]
  },
  {
   "cell_type": "code",
   "execution_count": null,
   "metadata": {},
   "outputs": [],
   "source": [
    "!python -m pip install keras==2.4.0 --user"
   ]
  },
  {
   "cell_type": "code",
   "execution_count": null,
   "metadata": {},
   "outputs": [],
   "source": [
    "import scipy.io as scio\n",
    "temp=scio.loadmat('temp.mat')\n",
    "best_hits_matrix_norm=temp['best_hits_matrix_norm']\n",
    "pmm_best_hits_matrix_denorm=temp['pmm_best_hits_matrix_denorm']\n",
    "input_times_grad(best_hits_matrix_norm[:,:,:,:], pmm_best_hits_matrix_denorm)"
   ]
  },
  {
   "cell_type": "code",
   "execution_count": 9,
   "metadata": {},
   "outputs": [],
   "source": [
    "import scipy.io as scio\n",
    "test = scio.loadmat('test_lead10_allIR')#test_lead10_allIR.mat')\n",
    "test_data_scaled = test['test_data_scaled']\n",
    "test_label = test['test_label'][:][0,:]"
   ]
  },
  {
   "cell_type": "code",
   "execution_count": 10,
   "metadata": {},
   "outputs": [
    {
     "name": "stdout",
     "output_type": "stream",
     "text": [
      "(3781,)\n"
     ]
    }
   ],
   "source": [
    "#test_label = test['test_label']\n",
    "print(test_label.shape)"
   ]
  },
  {
   "cell_type": "code",
   "execution_count": 31,
   "metadata": {},
   "outputs": [
    {
     "name": "stdout",
     "output_type": "stream",
     "text": [
      "Model: \"model_7\"\n",
      "__________________________________________________________________________________________________\n",
      "Layer (type)                    Output Shape         Param #     Connected to                     \n",
      "==================================================================================================\n",
      "scn_input (InputLayer)          [(None, 32, 32, 7)]  0                                            \n",
      "__________________________________________________________________________________________________\n",
      "conv2d_21 (Conv2D)              (None, 32, 32, 68)   4352        scn_input[0][0]                  \n",
      "__________________________________________________________________________________________________\n",
      "bn_res_00_a (BatchNormalization (None, 32, 32, 68)   272         conv2d_21[0][0]                  \n",
      "__________________________________________________________________________________________________\n",
      "res_activation_00_a (Activation (None, 32, 32, 68)   0           bn_res_00_a[0][0]                \n",
      "__________________________________________________________________________________________________\n",
      "res_conv_00_a (Conv2D)          (None, 32, 32, 68)   41684       res_activation_00_a[0][0]        \n",
      "__________________________________________________________________________________________________\n",
      "bn_res_00_b (BatchNormalization (None, 32, 32, 68)   272         res_conv_00_a[0][0]              \n",
      "__________________________________________________________________________________________________\n",
      "res_activation_00_b (Activation (None, 32, 32, 68)   0           bn_res_00_b[0][0]                \n",
      "__________________________________________________________________________________________________\n",
      "res_conv_00_b (Conv2D)          (None, 32, 32, 68)   41684       res_activation_00_b[0][0]        \n",
      "__________________________________________________________________________________________________\n",
      "add_21 (Add)                    (None, 32, 32, 68)   0           res_conv_00_b[0][0]              \n",
      "                                                                 conv2d_21[0][0]                  \n",
      "__________________________________________________________________________________________________\n",
      "pooling_00 (MaxPooling2D)       (None, 16, 16, 68)   0           add_21[0][0]                     \n",
      "__________________________________________________________________________________________________\n",
      "conv2d_22 (Conv2D)              (None, 16, 16, 136)  83368       pooling_00[0][0]                 \n",
      "__________________________________________________________________________________________________\n",
      "bn_res_01_a (BatchNormalization (None, 16, 16, 136)  544         conv2d_22[0][0]                  \n",
      "__________________________________________________________________________________________________\n",
      "res_activation_01_a (Activation (None, 16, 16, 136)  0           bn_res_01_a[0][0]                \n",
      "__________________________________________________________________________________________________\n",
      "res_conv_01_a (Conv2D)          (None, 16, 16, 136)  166600      res_activation_01_a[0][0]        \n",
      "__________________________________________________________________________________________________\n",
      "bn_res_01_b (BatchNormalization (None, 16, 16, 136)  544         res_conv_01_a[0][0]              \n",
      "__________________________________________________________________________________________________\n",
      "res_activation_01_b (Activation (None, 16, 16, 136)  0           bn_res_01_b[0][0]                \n",
      "__________________________________________________________________________________________________\n",
      "res_conv_01_b (Conv2D)          (None, 16, 16, 136)  166600      res_activation_01_b[0][0]        \n",
      "__________________________________________________________________________________________________\n",
      "add_22 (Add)                    (None, 16, 16, 136)  0           res_conv_01_b[0][0]              \n",
      "                                                                 conv2d_22[0][0]                  \n",
      "__________________________________________________________________________________________________\n",
      "pooling_01 (MaxPooling2D)       (None, 8, 8, 136)    0           add_22[0][0]                     \n",
      "__________________________________________________________________________________________________\n",
      "conv2d_23 (Conv2D)              (None, 8, 8, 272)    333200      pooling_01[0][0]                 \n",
      "__________________________________________________________________________________________________\n",
      "bn_res_02_a (BatchNormalization (None, 8, 8, 272)    1088        conv2d_23[0][0]                  \n",
      "__________________________________________________________________________________________________\n",
      "res_activation_02_a (Activation (None, 8, 8, 272)    0           bn_res_02_a[0][0]                \n",
      "__________________________________________________________________________________________________\n",
      "res_conv_02_a (Conv2D)          (None, 8, 8, 272)    666128      res_activation_02_a[0][0]        \n",
      "__________________________________________________________________________________________________\n",
      "bn_res_02_b (BatchNormalization (None, 8, 8, 272)    1088        res_conv_02_a[0][0]              \n",
      "__________________________________________________________________________________________________\n",
      "res_activation_02_b (Activation (None, 8, 8, 272)    0           bn_res_02_b[0][0]                \n",
      "__________________________________________________________________________________________________\n",
      "res_conv_02_b (Conv2D)          (None, 8, 8, 272)    666128      res_activation_02_b[0][0]        \n",
      "__________________________________________________________________________________________________\n",
      "add_23 (Add)                    (None, 8, 8, 272)    0           res_conv_02_b[0][0]              \n",
      "                                                                 conv2d_23[0][0]                  \n",
      "__________________________________________________________________________________________________\n",
      "pooling_02 (MaxPooling2D)       (None, 4, 4, 272)    0           add_23[0][0]                     \n",
      "__________________________________________________________________________________________________\n",
      "flatten (Flatten)               (None, 4352)         0           pooling_02[0][0]                 \n",
      "__________________________________________________________________________________________________\n",
      "dense_dropout (Dropout)         (None, 4352)         0           flatten[0][0]                    \n",
      "__________________________________________________________________________________________________\n",
      "dense_output (Dense)            (None, 1)            4353        dense_dropout[0][0]              \n",
      "__________________________________________________________________________________________________\n",
      "activation_output (Activation)  (None, 1)            0           dense_output[0][0]               \n",
      "==================================================================================================\n",
      "Total params: 2,177,905\n",
      "Trainable params: 2,176,001\n",
      "Non-trainable params: 1,904\n",
      "__________________________________________________________________________________________________\n"
     ]
    }
   ],
   "source": [
    "my_model = utils.read_dense_net(\"/glade/work/fanda/model_ensemble/old/goes16_resnet_gpus_01.h5\")#,custom_objects={'loss_func_CE': loss_func_CE})\n",
    "my_model.summary()"
   ]
  },
  {
   "cell_type": "code",
   "execution_count": 46,
   "metadata": {},
   "outputs": [],
   "source": [
    "import shap\n",
    "def m(X):\n",
    "  return my_model.predict(X)\n",
    "\n",
    "def explain_multiband(data, masker):\n",
    "  # Initialize PartitionShap explainer\n",
    "  explainer = shap.Explainer(m, masker)\n",
    "\n",
    "  # Explain batch (calculate SHAP values)\n",
    "  shap_values = explainer(data, max_evals=10000)\n",
    "\n",
    "  return shap_values"
   ]
  },
  {
   "cell_type": "code",
   "execution_count": 32,
   "metadata": {},
   "outputs": [],
   "source": [
    "# set the probability threshold for binary classification; predict on validation; add binary preds\n",
    "#import keras\n",
    "#my_model = keras.models.load_model(\"goes16ci_model_cpu_lead10_allIR.h5\")#models/goes16ci_model_cpu2022-06-06 15:28:51.532054.h5\")#\"goes16ci_model_cpu_lead0_allIR.h5\")\n",
    "#my_model = tf.saved_model.load(\"/storage/home/dxf424/work/scrip/goes16ci_model_cpu_lead10_allIR.h5\")\n",
    "binary_threshold = 0.5\n",
    "preds = my_model.predict(test_data_scaled).reshape(test_label.shape)\n",
    "binary_preds = np.where(preds >= binary_threshold, 1, 0)"
   ]
  },
  {
   "cell_type": "code",
   "execution_count": 33,
   "metadata": {},
   "outputs": [
    {
     "data": {
      "text/plain": [
       "2655"
      ]
     },
     "execution_count": 33,
     "metadata": {},
     "output_type": "execute_result"
    }
   ],
   "source": [
    "np.sum(binary_preds)"
   ]
  },
  {
   "cell_type": "code",
   "execution_count": 34,
   "metadata": {},
   "outputs": [],
   "source": [
    "# Metric functions\n",
    "from sklearn.metrics import confusion_matrix, mean_squared_error, brier_score_loss, roc_auc_score, accuracy_score\n",
    "\n",
    "import numpy as np\n",
    "\n",
    "def calc_pdf_hist(x, x_bins):\n",
    "    return np.histogram(x, x_bins, density=True)[0]\n",
    "\n",
    "def auc_score(y_true, y_pred):\n",
    "    return roc_auc_score(y_true, y_pred)\n",
    "\n",
    "def brier_score(y_true, y_pred):\n",
    "    return brier_score_loss(y_true, y_pred)\n",
    "\n",
    "def brier_skill_score(y_true, y_pred):\n",
    "    \n",
    "    model_brier_score = mean_squared_error(y_true, y_pred)\n",
    "    climo_brier_score = mean_squared_error(y_true, np.ones(y_true.size) * y_true.sum() / y_true.size)\n",
    "    model_brier_skill_score = 1 - model_brier_score / climo_brier_score\n",
    "    return model_brier_skill_score\n",
    "\n",
    "def hellinger(x, pdf_p, pdf_q):\n",
    "    pdf_distances = (np.sqrt(pdf_p) - np.sqrt(pdf_q)) ** 2\n",
    "    return np.trapz(pdf_distances, x) / 2\n",
    "\n",
    "def root_mean_squared_error(y_true, y_pred):\n",
    "    return np.sqrt(mean_squared_error(y_true, y_pred))\n",
    "\n",
    "def hellinger_distance(y_true, y_pred, bins=50):\n",
    "    bin_points = np.linspace(np.minimum(y_true.min(), y_pred.min()),\n",
    "                       np.maximum(y_true.max(), y_pred.max()),\n",
    "                       bins)\n",
    "    bin_centers = 0.5 * (bin_points[:-1] + bin_points[1:])\n",
    "    y_true_pdf = calc_pdf_hist(y_true, bin_points)\n",
    "    y_pred_pdf = calc_pdf_hist(y_pred, bin_points)\n",
    "    return hellinger(bin_centers, y_true_pdf, y_pred_pdf)\n",
    "\n",
    "def scores(y_true, y_pred):\n",
    "    cm = confusion_matrix(y_true, y_pred)\n",
    "    C, F, M, H = cm[0,0], cm[0,1], cm[1,0], cm[1,1]\n",
    "    print(F)\n",
    "    POD = H/(H+M)\n",
    "    POFD = F/(F+C)\n",
    "    FAR = F/(F+H)\n",
    "    SR = H/(F+H)\n",
    "    CSI = H/(H+F+M)\n",
    "    return POD, POFD, FAR, SR, CSI\n",
    "#tn, fp, fn, tp\n",
    "def peirce_skill_score(y_true, y_pred):\n",
    "    cm = confusion_matrix(y_true, y_pred)\n",
    "    print(cm)\n",
    "    n = float(cm.sum())\n",
    "    nf = cm.sum(axis=0)\n",
    "    no = cm.sum(axis=1)\n",
    "    correct = float(cm.trace())\n",
    "    return (correct / n - (nf * no).sum() / n ** 2) / (1 - (no * no).sum() / n ** 2)\n",
    "\n",
    "def heidke_skill_score(y_true, y_pred):\n",
    "    cm = confusion_matrix(y_true, y_pred)\n",
    "    n = float(cm.sum())\n",
    "    nf = cm.sum(axis=0)\n",
    "    no = cm.sum(axis=1)\n",
    "    correct = float(cm.trace())\n",
    "    return (correct / n - (nf * no).sum() / n ** 2) / (1 - (nf * no).sum() / n ** 2)\n",
    "\n",
    "def r2_corr(y_true, y_pred):\n",
    "    return np.corrcoef(y_true, y_pred)[0, 1] ** 2"
   ]
  },
  {
   "cell_type": "code",
   "execution_count": 35,
   "metadata": {},
   "outputs": [
    {
     "name": "stdout",
     "output_type": "stream",
     "text": [
      "Total score for 1 is 2\n",
      "770\n"
     ]
    },
    {
     "data": {
      "text/plain": [
       "(0.8959125475285171,\n",
       " 0.45915324985092426,\n",
       " 0.2900188323917137,\n",
       " 0.7099811676082862,\n",
       " 0.6558803061934586)"
      ]
     },
     "execution_count": 35,
     "metadata": {},
     "output_type": "execute_result"
    }
   ],
   "source": [
    "print(\"Total score for {} is {}\".format(1,2))\n",
    "scores(test_label, binary_preds)"
   ]
  },
  {
   "cell_type": "code",
   "execution_count": 36,
   "metadata": {},
   "outputs": [
    {
     "name": "stdout",
     "output_type": "stream",
     "text": [
      "RMSE: 0.41999998688697815\n",
      "R squared: 0.296\n",
      "Hellenger Distance: 0.588\n",
      "770\n",
      "POD: 0.8959125475285171, POFD: 0.45915324985092426, FAR: 0.2900188323917137, SR: 0.7099811676082862, CSI:0.6558803061934586\n",
      "Heidke Skill Score: 0.452\n",
      "[[ 907  770]\n",
      " [ 219 1885]]\n",
      "Pierce Skill Score: 0.437\n",
      "Brier Score: 0.262\n",
      "Brier Skill Score: -0.06\n",
      "Accuracy score: 0.738\n",
      "AUC: 0.8\n"
     ]
    }
   ],
   "source": [
    "# Example regressed metrics\n",
    "#cm = POD_score(test_label, binary_preds)\n",
    "print('RMSE: {}'.format(np.round(root_mean_squared_error(test_label, preds),3)))\n",
    "print('R squared: {}'.format(np.round(r2_corr(test_label, preds),3)))\n",
    "print('Hellenger Distance: {}'.format(np.round(hellinger_distance(test_label, preds),3)))\n",
    "POD, POFD, FAR, SR, CSI = scores(test_label, binary_preds)\n",
    "print('POD: {}, POFD: {}, FAR: {}, SR: {}, CSI:{}'.format(POD, POFD, FAR, SR, CSI))\n",
    "# Example classified metrics\n",
    "print('Heidke Skill Score: {}'.format(np.round(heidke_skill_score(test_label, binary_preds),3)))\n",
    "print('Pierce Skill Score: {}'.format(np.round(peirce_skill_score(test_label, binary_preds),3)))\n",
    "print('Brier Score: {}'.format(np.round(brier_score(test_label, binary_preds),3)))\n",
    "print('Brier Skill Score: {}'.format(np.round(brier_skill_score(test_label, binary_preds),3)))\n",
    "print('Accuracy score: {}'.format(np.round(accuracy_score(test_label, binary_preds),3)))\n",
    "print('AUC: {}'.format(np.round(auc_score(test_label, preds),3)))"
   ]
  },
  {
   "cell_type": "code",
   "execution_count": 64,
   "metadata": {},
   "outputs": [
    {
     "data": {
      "image/png": "[encoded data removed]",
      "text/plain": [
       "<Figure size 960x640 with 1 Axes>"
      ]
     },
     "metadata": {
      "needs_background": "light"
     },
     "output_type": "display_data"
    }
   ],
   "source": [
    "index=np.arange(0,60,10)\n",
    "POD=[0.846958174904943, 0.842, 0.8032319391634981, 0.8046577946768061, 0.6711026615969582, 0.7200570342205324]\n",
    "SR=[0.7223348196189704, 0.704, 0.6971947194719472, 0.6742333731581044, 0.6824552924117931, 0.6485445205479452]\n",
    "CSI=[0.6389386877016852, 0.622, 0.5954897815362932, 0.579397672826831, 0.5114089098152843, 0.517948717948718]\n",
    "AUC=[0.801, 0.774, 0.745, 0.719, 0.691, 0.657]\n",
    "FAR=[0.2776651803810296, 0.295, 0.3028052805280528, 0.32576662684189567, 0.31754470758820685, 0.3514554794520548]\n",
    "# plot lines\n",
    "plt.figure(figsize=(12, 8), dpi=80)\n",
    "plt.plot(index, POD, 'bo-',label = \"POD\")\n",
    "plt.plot(index, SR, 'ro-', label = \"SR\")\n",
    "plt.plot(index, CSI, 'go-', label = \"CSI\")\n",
    "plt.plot(index, AUC, 'mo-',label = \"AUC\")\n",
    "plt.plot(index, FAR, 'ko-',label = \"FAR\")\n",
    "#plt.legend()\n",
    "#plt.rcParams[\"legend.loc\"] = 'left'\n",
    "plt.ylabel('Score')\n",
    "plt.xlabel('Lead time (min)')\n",
    "plt.xticks((0,10,20,30,40,50))\n",
    "plt.show()"
   ]
  },
  {
   "cell_type": "code",
   "execution_count": 39,
   "metadata": {},
   "outputs": [
    {
     "name": "stdout",
     "output_type": "stream",
     "text": [
      "(907,)\n",
      "[   7 1740  768 2988 3147 2702 2174 2035 2938 2893 2403 3006 3425 1963\n",
      " 2883 2399 1258  191  604 2853 2010 2455 2903 2322 2805 2984 3632 3079\n",
      "   37  659  647 1391  622 1626 1334 3276 3275 3596  478 3595 2432 2527\n",
      " 1523 3583  569  514 2524 1097 1379 2280 1930 1686 1889 3234 2434  642\n",
      "  719 3282 2170 1423 3507 3640 3038 2065 1273 2582 3702 1245   33 3041\n",
      " 2573 3661  234 1001   21 1026  213 2003 3357 1831 1113 3694 1763 2804\n",
      "  291 2358 1445 2764 1406 3610 3599 1365  616  715  733 2407 2052 1161\n",
      " 1136 2332]\n"
     ]
    }
   ],
   "source": [
    "#print(preds[test_label==1])\n",
    "#np.where((dists >= r) & (dists <= r + dr))\n",
    "indices = (np.where((test_label==1) & (binary_preds==1)))[0]\n",
    "ind = np.argpartition(preds[indices], -10)[-10:]\n",
    "#ind = np.argpartition(preds[indices], -100)[-100:]\n",
    "best_hit_indices = indices[ind]\n",
    "\n",
    "indices = (np.where((test_label==0) & (binary_preds==1)))[0]\n",
    "ind = np.argpartition(preds[indices], -100)[-100:]\n",
    "worst_false_alarm_indices = indices[ind]\n",
    "\n",
    "indices = (np.where((test_label==1) & (binary_preds==0)))[0]\n",
    "ind = np.argpartition(-preds[indices], -100)[-100:]\n",
    "worst_miss_indices = indices[ind]\n",
    "\n",
    "indices = (np.where((test_label==0) & (binary_preds==0)))[0]\n",
    "ind = np.argpartition(-preds[indices], -100)[-100:]\n",
    "best_correct_null_indices = indices[ind]\n",
    "\n",
    "print(indices.shape)\n",
    "print(indices[ind])"
   ]
  },
  {
   "cell_type": "code",
   "execution_count": 40,
   "metadata": {},
   "outputs": [],
   "source": [
    "# Best hits\n",
    "pmm_best_hits_matrix_denorm = utils.run_pmm_many_variables(test_data_scaled[best_hit_indices])\n",
    "# Worst false alarms\n",
    "pmm_worst_false_alarm_matrix_denorm = utils.run_pmm_many_variables(test_data_scaled[worst_false_alarm_indices])\n",
    "# Worst misses\n",
    "pmm_worst_miss_matrix_denorm = utils.run_pmm_many_variables(test_data_scaled[worst_miss_indices])\n",
    "# Best correst nulls\n",
    "pmm_best_correct_null_matrix_denorm = utils.run_pmm_many_variables(test_data_scaled[best_correct_null_indices])\n"
   ]
  },
  {
   "cell_type": "code",
   "execution_count": null,
   "metadata": {},
   "outputs": [],
   "source": [
    "pmm_best_hits_matrix_denorm.shape"
   ]
  },
  {
   "cell_type": "code",
   "execution_count": null,
   "metadata": {},
   "outputs": [],
   "source": [
    "preds[indices[ind]]"
   ]
  },
  {
   "cell_type": "code",
   "execution_count": 43,
   "metadata": {},
   "outputs": [],
   "source": [
    "best_hits_matrix_norm=test_data_scaled[best_hit_indices]"
   ]
  },
  {
   "cell_type": "code",
   "execution_count": null,
   "metadata": {},
   "outputs": [],
   "source": [
    "print(my_model.layers[-1].name)"
   ]
  },
  {
   "cell_type": "code",
   "execution_count": 41,
   "metadata": {},
   "outputs": [],
   "source": [
    "def input_times_grad(matrix_norm, pmm_matrix_denorm ):\n",
    "  print('ok')\n",
    "  saliency_matrix = utils.get_saliency_one_neuron(\n",
    "      model_object=my_model,\n",
    "      predictor_matrix=matrix_norm,\n",
    "      layer_name=my_model.layers[-1].name,\n",
    "      neuron_indices=np.array([0], dtype=int),\n",
    "      ideal_activation=1.\n",
    "  )\n",
    "  input_times_grad_matrix = (saliency_matrix * matrix_norm)\n",
    "\n",
    "  input_times_grad_matrix = utils.run_pmm_many_variables(\n",
    "      field_matrix=input_times_grad_matrix\n",
    "  )\n",
    "  input_times_grad_matrix = saliency.smooth_saliency_maps(\n",
    "      saliency_matrices=[input_times_grad_matrix],\n",
    "      smoothing_radius_grid_cells=1\n",
    "  )[0]\n",
    "\n",
    "  plot_storm_xai(pmm_matrix_denorm, input_times_grad_matrix)\n",
    "\n",
    "def plot_storm_xai(values, shap_values):\n",
    "  '''\n",
    "    values: M-by-N-by-4\n",
    "    shap_values: M-by-N-by-4\n",
    "  '''\n",
    "\n",
    "  from shap.plots import colors\n",
    "  import matplotlib\n",
    "\n",
    "  THIS_COLOUR_LIST = [\n",
    "    np.array([4, 233, 231]), np.array([1, 159, 244]),\n",
    "    np.array([3, 0, 244]),   np.array([2, 253, 2]),\n",
    "    np.array([1, 197, 1]),   np.array([0, 142, 0]),\n",
    "    np.array([253, 248, 2]), np.array([229, 188, 0]),\n",
    "    np.array([253, 149, 0]), np.array([253, 0, 0]),\n",
    "    np.array([212, 0, 0]),   np.array([188, 0, 0]),\n",
    "    np.array([248, 0, 253]), np.array([152, 84, 198])\n",
    "  ]\n",
    "  for p in range(len(THIS_COLOUR_LIST)):\n",
    "    THIS_COLOUR_LIST[p] = THIS_COLOUR_LIST[p].astype(float) / 255\n",
    "\n",
    "  REFL_COLOUR_MAP_OBJECT = matplotlib.colors.ListedColormap(THIS_COLOUR_LIST)\n",
    "  REFL_COLOUR_MAP_OBJECT.set_under(np.ones(3))\n",
    "  THESE_COLOUR_BOUNDS = np.array([\n",
    "      0.1, 5, 10, 15, 20, 25, 30, 35, 40, 45, 50, 55, 60, 65, 70\n",
    "  ])\n",
    "  REFL_COLOUR_NORM_OBJECT = matplotlib.colors.BoundaryNorm(\n",
    "      THESE_COLOUR_BOUNDS, REFL_COLOUR_MAP_OBJECT.N\n",
    "  )\n",
    "\n",
    "  fig, ax = plt.subplots(3, 7, figsize=(24, 18))\n",
    "\n",
    "  values = copy.deepcopy(values)\n",
    "  values = np.squeeze(values)\n",
    "  shap_values = copy.deepcopy(shap_values)\n",
    "  # shap_values = np.abs(shap_values)\n",
    "  shap_values = np.squeeze(shap_values)\n",
    "\n",
    "  abs_vals = np.abs(shap_values.sum(-1))\n",
    "  max_val = np.nanpercentile(abs_vals, 99.9)\n",
    "\n",
    "  # Reflectivity\n",
    "  ax[0][0].set_title(\"CH8 BT\")\n",
    "  ax[0][0].pcolormesh(values[:,:,0], \n",
    "                      cmap='seismic',\n",
    "                      norm=None,\n",
    "                      vmin=0,\n",
    "                      vmax=1,\n",
    "                      shading=\"flat\", edgecolors='None') \n",
    "  ax[0][0].axis('off')\n",
    "  ax[1][0].imshow(values[:,:,0], cmap=\"gray\", alpha=0.15)\n",
    "  ax[1][0].imshow(shap_values[:,:,0], cmap=colors.red_transparent_blue, vmin=-max_val, vmax=max_val)\n",
    "  ax[1][0].invert_yaxis()\n",
    "  ax[1][0].axis('off')\n",
    "  ax[2][0].imshow(values[:,:,0], cmap=\"gray\", alpha=0.15)\n",
    "  local_abs_vals = np.abs(shap_values[:,:,0])\n",
    "  local_max_val = np.nanpercentile(local_abs_vals, 99.9)\n",
    "  ax[2][0].imshow(shap_values[:,:,0], cmap=colors.red_transparent_blue, vmin=-local_max_val, vmax=local_max_val)  \n",
    "  ax[2][0].invert_yaxis()\n",
    "  ax[2][0].axis('off')\n",
    "\n",
    "  # Temperature\n",
    "  ax[0][1].set_title(\"CH9 BT\")\n",
    "  ax[0][1].pcolormesh(values[:,:,1], \n",
    "                      cmap='seismic',\n",
    "                      norm=None,\n",
    "                      vmin=0,\n",
    "                      vmax=1,\n",
    "                      shading=\"flat\", edgecolors='None') \n",
    "  ax[0][1].axis('off')\n",
    "  ax[1][1].imshow(values[:,:,1], cmap=\"gray\", alpha=0.15)\n",
    "  ax[1][1].imshow(shap_values[:,:,1], cmap=colors.red_transparent_blue, vmin=-max_val, vmax=max_val)\n",
    "  ax[1][1].invert_yaxis()\n",
    "  ax[1][1].axis('off')\n",
    "  ax[2][1].imshow(values[:,:,0], cmap=\"gray\", alpha=0.15)\n",
    "  local_abs_vals = np.abs(shap_values[:,:,1])\n",
    "  local_max_val = np.nanpercentile(local_abs_vals, 99.9)\n",
    "  ax[2][1].imshow(shap_values[:,:,1], cmap=colors.red_transparent_blue, vmin=-local_max_val, vmax=local_max_val)  \n",
    "  ax[2][1].invert_yaxis()\n",
    "  ax[2][1].axis('off')\n",
    "\n",
    "  # Wind barbs\n",
    "  #image_plotting.plot_wind_2d(values[:,:,2], values[:,:,3], ax[0][1])\n",
    "\n",
    "  # Wind - u\n",
    "  ax[0][2].set_title(\"CH10 BT\")\n",
    "  ax[0][2].pcolormesh(values[:,:,2], \n",
    "                      cmap='seismic',\n",
    "                      norm=None,\n",
    "                      vmin=0,\n",
    "                      vmax=1,\n",
    "                      shading=\"flat\", edgecolors='None')  \n",
    "  ax[0][2].axis('off')\n",
    "  ax[1][2].imshow(values[:,:,2], cmap=\"gray\", alpha=0.15)\n",
    "  ax[1][2].imshow(shap_values[:,:,2], cmap=colors.red_transparent_blue, vmin=-max_val, vmax=max_val)\n",
    "  ax[1][2].invert_yaxis()\n",
    "  ax[1][2].axis('off')\n",
    "  ax[2][2].imshow(values[:,:,0], cmap=\"gray\", alpha=0.15)\n",
    "  local_abs_vals = np.abs(shap_values[:,:,2])\n",
    "  local_max_val = np.nanpercentile(local_abs_vals, 99.9)\n",
    "  ax[2][2].imshow(shap_values[:,:,2], cmap=colors.red_transparent_blue, vmin=-local_max_val, vmax=local_max_val)  \n",
    "  ax[2][2].invert_yaxis()\n",
    "  ax[2][2].axis('off')\n",
    "\n",
    "  # Wind - v\n",
    "  ax[0][3].set_title(\"CH11 BT\")\n",
    "  ax[0][3].pcolormesh(values[:,:,3], \n",
    "                      cmap='seismic',\n",
    "                      norm=None,\n",
    "                      vmin=0,\n",
    "                      vmax=1,\n",
    "                      shading=\"flat\", edgecolors='None')  \n",
    "  ax[0][3].axis('off')\n",
    "  ax[1][3].imshow(values[:,:,3], cmap=\"gray\", alpha=0.15)\n",
    "  ax[1][3].imshow(shap_values[:,:,3], cmap=colors.red_transparent_blue, vmin=-max_val, vmax=max_val)\n",
    "  ax[1][3].invert_yaxis()\n",
    "  ax[1][3].axis('off')\n",
    "  ax[2][3].imshow(values[:,:,0], cmap=\"gray\", alpha=0.15)\n",
    "  local_abs_vals = np.abs(shap_values[:,:,3])\n",
    "  local_max_val = np.nanpercentile(local_abs_vals, 99.9)\n",
    "  ax[2][3].imshow(shap_values[:,:,3], cmap=colors.red_transparent_blue, vmin=-local_max_val, vmax=local_max_val)  \n",
    "  ax[2][3].invert_yaxis()\n",
    "  ax[2][3].axis('off')\n",
    "\n",
    "  ax[0][4].set_title(\"CH12 BT\")\n",
    "  ax[0][4].pcolormesh(values[:,:,4], \n",
    "                      cmap='seismic',\n",
    "                      norm=None,\n",
    "                      vmin=0,\n",
    "                      vmax=1,\n",
    "                      shading=\"flat\", edgecolors='None')  \n",
    "  ax[0][4].axis('off')\n",
    "  ax[1][4].imshow(values[:,:,4], cmap=\"gray\", alpha=0.15)\n",
    "  ax[1][4].imshow(shap_values[:,:,4], cmap=colors.red_transparent_blue, vmin=-max_val, vmax=max_val)\n",
    "  ax[1][4].invert_yaxis()\n",
    "  ax[1][4].axis('off')\n",
    "  ax[2][4].imshow(values[:,:,0], cmap=\"gray\", alpha=0.15)\n",
    "  local_abs_vals = np.abs(shap_values[:,:,4])\n",
    "  local_max_val = np.nanpercentile(local_abs_vals, 99.9)\n",
    "  ax[2][4].imshow(shap_values[:,:,4], cmap=colors.red_transparent_blue, vmin=-local_max_val, vmax=local_max_val)  \n",
    "  ax[2][4].invert_yaxis()\n",
    "  ax[2][4].axis('off')\n",
    "\n",
    "  ax[0][5].set_title(\"CH13 BT\")\n",
    "  ax[0][5].pcolormesh(values[:,:,5], \n",
    "                      cmap='seismic',\n",
    "                      norm=None,\n",
    "                      vmin=0,\n",
    "                      vmax=1,\n",
    "                      shading=\"flat\", edgecolors='None')  \n",
    "  ax[0][5].axis('off')\n",
    "  ax[1][5].imshow(values[:,:,5], cmap=\"gray\", alpha=0.15)\n",
    "  ax[1][5].imshow(shap_values[:,:,5], cmap=colors.red_transparent_blue, vmin=-max_val, vmax=max_val)\n",
    "  ax[1][5].invert_yaxis()\n",
    "  ax[1][5].axis('off')\n",
    "  ax[2][5].imshow(values[:,:,0], cmap=\"gray\", alpha=0.15)\n",
    "  local_abs_vals = np.abs(shap_values[:,:,5])\n",
    "  local_max_val = np.nanpercentile(local_abs_vals, 99.9)\n",
    "  ax[2][5].imshow(shap_values[:,:,5], cmap=colors.red_transparent_blue, vmin=-local_max_val, vmax=local_max_val)  \n",
    "  ax[2][5].invert_yaxis()\n",
    "  ax[2][5].axis('off')\n",
    "\n",
    "  ax[0][6].set_title(\"CH14 BT\")\n",
    "  ax[0][6].pcolormesh(values[:,:,6], \n",
    "                      cmap='seismic',\n",
    "                      norm=None,\n",
    "                      vmin=0,\n",
    "                      vmax=1,\n",
    "                      shading=\"flat\", edgecolors='None')  \n",
    "  ax[0][6].axis('off')\n",
    "  ax[1][6].imshow(values[:,:,6], cmap=\"gray\", alpha=0.15)\n",
    "  ax[1][6].imshow(shap_values[:,:,6], cmap=colors.red_transparent_blue, vmin=-max_val, vmax=max_val)\n",
    "  ax[1][6].invert_yaxis()\n",
    "  ax[1][6].axis('off')\n",
    "  ax[2][6].imshow(values[:,:,0], cmap=\"gray\", alpha=0.15)\n",
    "  local_abs_vals = np.abs(shap_values[:,:,6])\n",
    "  local_max_val = np.nanpercentile(local_abs_vals, 99.9)\n",
    "  ax[2][6].imshow(shap_values[:,:,6], cmap=colors.red_transparent_blue, vmin=-local_max_val, vmax=local_max_val)  \n",
    "  ax[2][6].invert_yaxis()\n",
    "  ax[2][6].axis('off')\n",
    "\n",
    "  plt.tight_layout()\n",
    "\n",
    "def plot_storm_xai_batch(values, shap_values):\n",
    "  n = values.shape[0]\n",
    "  for i in range(n):\n",
    "    v = values[i,:]\n",
    "    s = shap_values[i]\n",
    "    plot_storm_xai(v, s)"
   ]
  },
  {
   "cell_type": "code",
   "execution_count": 15,
   "metadata": {},
   "outputs": [
    {
     "name": "stdout",
     "output_type": "stream",
     "text": [
      "Requirement already satisfied: shap in /storage/home/d/dxf424/.local/lib/python3.8/site-packages (0.40.0)\n",
      "Requirement already satisfied: packaging>20.9 in /storage/home/d/dxf424/.local/lib/python3.8/site-packages (from shap) (21.3)\n",
      "Requirement already satisfied: slicer==0.0.7 in /storage/home/d/dxf424/.local/lib/python3.8/site-packages (from shap) (0.0.7)\n",
      "Requirement already satisfied: scikit-learn in /opt/global/RedHat-7/production-20220107/sw/anaconda3/2020.07_gcc-4.8.5-bzb/lib/python3.8/site-packages (from shap) (0.23.1)\n",
      "Requirement already satisfied: pandas in /storage/home/d/dxf424/.local/lib/python3.8/site-packages (from shap) (1.2.3)\n",
      "Requirement already satisfied: scipy in /storage/home/d/dxf424/.local/lib/python3.8/site-packages (from shap) (1.4.1)\n",
      "Requirement already satisfied: numpy in /storage/home/d/dxf424/.local/lib/python3.8/site-packages (from shap) (1.19.5)\n",
      "Requirement already satisfied: numba in /opt/global/RedHat-7/production-20220107/sw/anaconda3/2020.07_gcc-4.8.5-bzb/lib/python3.8/site-packages (from shap) (0.50.1)\n",
      "Requirement already satisfied: cloudpickle in /opt/global/RedHat-7/production-20220107/sw/anaconda3/2020.07_gcc-4.8.5-bzb/lib/python3.8/site-packages (from shap) (1.5.0)\n",
      "Requirement already satisfied: tqdm>4.25.0 in /opt/global/RedHat-7/production-20220107/sw/anaconda3/2020.07_gcc-4.8.5-bzb/lib/python3.8/site-packages (from shap) (4.47.0)\n",
      "Requirement already satisfied: pyparsing!=3.0.5,>=2.0.2 in /opt/global/RedHat-7/production-20220107/sw/anaconda3/2020.07_gcc-4.8.5-bzb/lib/python3.8/site-packages (from packaging>20.9->shap) (2.4.7)\n",
      "Requirement already satisfied: threadpoolctl>=2.0.0 in /opt/global/RedHat-7/production-20220107/sw/anaconda3/2020.07_gcc-4.8.5-bzb/lib/python3.8/site-packages (from scikit-learn->shap) (2.1.0)\n",
      "Requirement already satisfied: joblib>=0.11 in /opt/global/RedHat-7/production-20220107/sw/anaconda3/2020.07_gcc-4.8.5-bzb/lib/python3.8/site-packages (from scikit-learn->shap) (0.16.0)\n",
      "Requirement already satisfied: pytz>=2017.3 in /opt/global/RedHat-7/production-20220107/sw/anaconda3/2020.07_gcc-4.8.5-bzb/lib/python3.8/site-packages (from pandas->shap) (2020.1)\n",
      "Requirement already satisfied: python-dateutil>=2.7.3 in /opt/global/RedHat-7/production-20220107/sw/anaconda3/2020.07_gcc-4.8.5-bzb/lib/python3.8/site-packages (from pandas->shap) (2.8.1)\n",
      "Requirement already satisfied: llvmlite<0.34,>=0.33.0.dev0 in /opt/global/RedHat-7/production-20220107/sw/anaconda3/2020.07_gcc-4.8.5-bzb/lib/python3.8/site-packages (from numba->shap) (0.33.0+1.g022ab0f)\n",
      "Requirement already satisfied: setuptools in /opt/global/RedHat-7/production-20220107/sw/anaconda3/2020.07_gcc-4.8.5-bzb/lib/python3.8/site-packages (from numba->shap) (49.2.0.post20200714)\n",
      "Requirement already satisfied: six>=1.5 in /opt/global/RedHat-7/production-20220107/sw/anaconda3/2020.07_gcc-4.8.5-bzb/lib/python3.8/site-packages (from python-dateutil>=2.7.3->pandas->shap) (1.15.0)\n"
     ]
    }
   ],
   "source": [
    "!python3.8 -m pip install shap --user"
   ]
  },
  {
   "cell_type": "code",
   "execution_count": 54,
   "metadata": {},
   "outputs": [
    {
     "data": {
      "text/plain": [
       "(10, 32, 32, 7)"
      ]
     },
     "execution_count": 54,
     "metadata": {},
     "output_type": "execute_result"
    }
   ],
   "source": [
    "best_hits_matrix_norm.shape"
   ]
  },
  {
   "cell_type": "code",
   "execution_count": 57,
   "metadata": {},
   "outputs": [
    {
     "data": {
      "text/plain": [
       "(32, 32, 7)"
      ]
     },
     "execution_count": 57,
     "metadata": {},
     "output_type": "execute_result"
    }
   ],
   "source": [
    "X[0].shape"
   ]
  },
  {
   "cell_type": "code",
   "execution_count": 47,
   "metadata": {},
   "outputs": [
    {
     "name": "stdout",
     "output_type": "stream",
     "text": [
      "(32, 32, 7)\n"
     ]
    },
    {
     "data": {
      "application/vnd.jupyter.widget-view+json": {
       "model_id": "",
       "version_major": 2,
       "version_minor": 0
      },
      "text/plain": [
       "  0%|          | 0/4998 [00:00<?, ?it/s]"
      ]
     },
     "metadata": {},
     "output_type": "display_data"
    },
    {
     "name": "stderr",
     "output_type": "stream",
     "text": [
      "Partition explainer:  10%|█         | 1/10 [00:00<?, ?it/s]"
     ]
    },
    {
     "data": {
      "application/vnd.jupyter.widget-view+json": {
       "model_id": "",
       "version_major": 2,
       "version_minor": 0
      },
      "text/plain": [
       "  0%|          | 0/4998 [00:00<?, ?it/s]"
      ]
     },
     "metadata": {},
     "output_type": "display_data"
    },
    {
     "name": "stderr",
     "output_type": "stream",
     "text": [
      "Partition explainer:  30%|███       | 3/10 [00:32<00:51,  7.38s/it]"
     ]
    },
    {
     "data": {
      "application/vnd.jupyter.widget-view+json": {
       "model_id": "",
       "version_major": 2,
       "version_minor": 0
      },
      "text/plain": [
       "  0%|          | 0/4998 [00:00<?, ?it/s]"
      ]
     },
     "metadata": {},
     "output_type": "display_data"
    },
    {
     "name": "stderr",
     "output_type": "stream",
     "text": [
      "Partition explainer:  40%|████      | 4/10 [00:47<01:03, 10.59s/it]"
     ]
    },
    {
     "data": {
      "application/vnd.jupyter.widget-view+json": {
       "model_id": "",
       "version_major": 2,
       "version_minor": 0
      },
      "text/plain": [
       "  0%|          | 0/4998 [00:00<?, ?it/s]"
      ]
     },
     "metadata": {},
     "output_type": "display_data"
    },
    {
     "name": "stderr",
     "output_type": "stream",
     "text": [
      "Partition explainer:  50%|█████     | 5/10 [01:01<01:00, 12.08s/it]"
     ]
    },
    {
     "data": {
      "application/vnd.jupyter.widget-view+json": {
       "model_id": "",
       "version_major": 2,
       "version_minor": 0
      },
      "text/plain": [
       "  0%|          | 0/4998 [00:00<?, ?it/s]"
      ]
     },
     "metadata": {},
     "output_type": "display_data"
    },
    {
     "name": "stderr",
     "output_type": "stream",
     "text": [
      "Partition explainer:  60%|██████    | 6/10 [01:17<00:52, 13.16s/it]"
     ]
    },
    {
     "data": {
      "application/vnd.jupyter.widget-view+json": {
       "model_id": "",
       "version_major": 2,
       "version_minor": 0
      },
      "text/plain": [
       "  0%|          | 0/4998 [00:00<?, ?it/s]"
      ]
     },
     "metadata": {},
     "output_type": "display_data"
    },
    {
     "name": "stderr",
     "output_type": "stream",
     "text": [
      "Partition explainer:  70%|███████   | 7/10 [01:31<00:40, 13.64s/it]"
     ]
    },
    {
     "data": {
      "application/vnd.jupyter.widget-view+json": {
       "model_id": "",
       "version_major": 2,
       "version_minor": 0
      },
      "text/plain": [
       "  0%|          | 0/4998 [00:00<?, ?it/s]"
      ]
     },
     "metadata": {},
     "output_type": "display_data"
    },
    {
     "name": "stderr",
     "output_type": "stream",
     "text": [
      "Partition explainer:  80%|████████  | 8/10 [01:46<00:28, 14.10s/it]"
     ]
    },
    {
     "data": {
      "application/vnd.jupyter.widget-view+json": {
       "model_id": "",
       "version_major": 2,
       "version_minor": 0
      },
      "text/plain": [
       "  0%|          | 0/4998 [00:00<?, ?it/s]"
      ]
     },
     "metadata": {},
     "output_type": "display_data"
    },
    {
     "name": "stderr",
     "output_type": "stream",
     "text": [
      "Partition explainer:  90%|█████████ | 9/10 [02:01<00:14, 14.25s/it]"
     ]
    },
    {
     "data": {
      "application/vnd.jupyter.widget-view+json": {
       "model_id": "",
       "version_major": 2,
       "version_minor": 0
      },
      "text/plain": [
       "  0%|          | 0/4998 [00:00<?, ?it/s]"
      ]
     },
     "metadata": {},
     "output_type": "display_data"
    },
    {
     "name": "stderr",
     "output_type": "stream",
     "text": [
      "Partition explainer: 100%|██████████| 10/10 [02:16<00:00, 14.55s/it]"
     ]
    },
    {
     "data": {
      "application/vnd.jupyter.widget-view+json": {
       "model_id": "",
       "version_major": 2,
       "version_minor": 0
      },
      "text/plain": [
       "  0%|          | 0/4998 [00:00<?, ?it/s]"
      ]
     },
     "metadata": {},
     "output_type": "display_data"
    },
    {
     "name": "stderr",
     "output_type": "stream",
     "text": [
      "Partition explainer: 11it [02:31, 15.13s/it]                        \n"
     ]
    }
   ],
   "source": [
    "import shap\n",
    "X = best_hits_matrix_norm\n",
    "print(X[0].shape)\n",
    "#Xplot = best_hits_matrix_denorm\n",
    "# Evaluate \n",
    "masker_uniform_0  = shap.maskers.Image(np.zeros_like(X[0]), X[0].shape)#, partition_scheme=1)\n",
    "shap_values = explain_multiband(X, masker_uniform_0)\n",
    "# Plot first 5 samples\n",
    "#plot_storm_xai_batch(Xplot[0:5], shap_values[0:5].values)"
   ]
  },
  {
   "cell_type": "code",
   "execution_count": 52,
   "metadata": {},
   "outputs": [
    {
     "data": {
      "text/plain": [
       "array([[-1.74317792e-05, -1.71237859e-05, -1.66252299e-05, ...,\n",
       "        -6.11280902e-05, -5.81706502e-05, -5.80204384e-05],\n",
       "       [-1.57873325e-05, -1.54232441e-05, -1.58034310e-05, ...,\n",
       "        -6.17595130e-05, -5.79936800e-05, -5.83781092e-05],\n",
       "       [-6.50913927e-05, -6.53872043e-05, -8.15445934e-05, ...,\n",
       "        -1.17901344e-04, -1.12510313e-04, -1.13373519e-04],\n",
       "       ...,\n",
       "       [-1.55214393e-04, -1.55947611e-04, -1.76318604e-04, ...,\n",
       "        -2.05996258e-05, -2.00228454e-05, -1.96305518e-05],\n",
       "       [-7.31457206e-05, -7.28570417e-05, -8.50724555e-05, ...,\n",
       "        -4.95894548e-07, -3.26046422e-06, -3.92024845e-06],\n",
       "       [-7.38500821e-05, -7.38500821e-05, -8.50724555e-05, ...,\n",
       "        -1.44538369e-06, -3.52557790e-06, -3.26046422e-06]])"
      ]
     },
     "execution_count": 52,
     "metadata": {},
     "output_type": "execute_result"
    }
   ],
   "source": [
    "shap_values_pmm[:,:,0,0]"
   ]
  },
  {
   "cell_type": "code",
   "execution_count": 53,
   "metadata": {},
   "outputs": [
    {
     "data": {
      "text/plain": [
       "array([[-1.58297757e-05, -1.71237859e-05, -1.62130966e-05, ...,\n",
       "        -6.11280902e-05, -5.80204384e-05, -5.81706502e-05],\n",
       "       [-1.57873325e-05, -1.52750409e-05, -1.58034310e-05, ...,\n",
       "        -6.04486183e-05, -5.79798747e-05, -5.82807921e-05],\n",
       "       [-6.47065777e-05, -6.59843835e-05, -8.12645045e-05, ...,\n",
       "        -1.17582896e-04, -1.12637707e-04, -1.13295576e-04],\n",
       "       ...,\n",
       "       [-1.55214393e-04, -1.55947611e-04, -1.73869933e-04, ...,\n",
       "        -2.00838834e-05, -2.00228454e-05, -1.97235090e-05],\n",
       "       [-7.31457206e-05, -7.29957219e-05, -8.66879560e-05, ...,\n",
       "        -4.95894548e-07, -3.92024845e-06, -3.92024845e-06],\n",
       "       [-7.38500821e-05, -7.40216109e-05, -8.50376224e-05, ...,\n",
       "        -1.60508681e-06, -3.52557790e-06, -3.26046422e-06]])"
      ]
     },
     "execution_count": 53,
     "metadata": {},
     "output_type": "execute_result"
    }
   ],
   "source": [
    "shap_values_pmm[:,:,1,0]"
   ]
  },
  {
   "cell_type": "code",
   "execution_count": 60,
   "metadata": {},
   "outputs": [
    {
     "data": {
      "image/png": "[encoded data removed]",
      "text/plain": [
       "<Figure size 1728x1296 with 21 Axes>"
      ]
     },
     "metadata": {
      "needs_background": "light"
     },
     "output_type": "display_data"
    }
   ],
   "source": [
    "import copy\n",
    "shap_values_pmm = utils.run_pmm_many_variables(shap_values.values)\n",
    "#plot_storm_xai_batch(pmm_best_hits_matrix_denorm, \n",
    "#                      shap_values_pmm)\n",
    "plot_storm_xai_batch(np.expand_dims(pmm_best_hits_matrix_denorm, axis=0), \n",
    "                      np.expand_dims(shap_values_pmm, axis=0))"
   ]
  },
  {
   "cell_type": "code",
   "execution_count": null,
   "metadata": {},
   "outputs": [],
   "source": [
    "import tensorflow._api.v2.compat.v1 as tf\n",
    "tf.disable_v2_behavior()\n",
    "tf.compat.v1.disable_eager_execution()"
   ]
  },
  {
   "cell_type": "code",
   "execution_count": null,
   "metadata": {},
   "outputs": [],
   "source": [
    "#tf.compat.v1.enable_eager_execution()\n",
    "#tf.compat.v1.experimental.output_all_intermediates(True)\n",
    "#tf.config.run_functions_eagerly(True)\n",
    "a=my_model.get_layer(name=my_model.layers[-1].name).output[..., 0] #.output[..., 1]"
   ]
  },
  {
   "cell_type": "code",
   "execution_count": null,
   "metadata": {},
   "outputs": [],
   "source": [
    "best_hits_matrix_norm.shape"
   ]
  },
  {
   "cell_type": "code",
   "execution_count": null,
   "metadata": {},
   "outputs": [],
   "source": [
    "import tensorflow as tf\n",
    "tf.GradientTape"
   ]
  },
  {
   "cell_type": "code",
   "execution_count": null,
   "metadata": {},
   "outputs": [],
   "source": [
    "import tensorflow as tf\n",
    "tf.compat.v1.disable_eager_execution()\n",
    "tf.compat.v1.experimental.output_all_intermediates(True)"
   ]
  },
  {
   "cell_type": "code",
   "execution_count": null,
   "metadata": {},
   "outputs": [],
   "source": [
    "from tensorflow.python.framework.ops import disable_eager_execution\n",
    "disable_eager_execution()\n"
   ]
  },
  {
   "cell_type": "code",
   "execution_count": null,
   "metadata": {},
   "outputs": [],
   "source": [
    "!pip install h5py==2.10.0 --user yy"
   ]
  },
  {
   "cell_type": "code",
   "execution_count": null,
   "metadata": {},
   "outputs": [],
   "source": [
    "print(1.dtype)"
   ]
  },
  {
   "cell_type": "code",
   "execution_count": null,
   "metadata": {},
   "outputs": [],
   "source": [
    "import tensorflow as tf\n",
    "#tf.compat.v1.disable_eager_execution()\n",
    "tf.compat.v1.experimental.output_all_intermediates(True)"
   ]
  },
  {
   "cell_type": "code",
   "execution_count": null,
   "metadata": {},
   "outputs": [],
   "source": [
    "import scipy.io as scio\n",
    "scio.savemat('temp.mat',{'best_hits_matrix_norm':best_hits_matrix_norm, 'pmm_best_hits_matrix_denorm':pmm_best_hits_matrix_denorm})"
   ]
  },
  {
   "cell_type": "code",
   "execution_count": null,
   "metadata": {},
   "outputs": [],
   "source": [
    "import scipy.io as scio\n",
    "test=scio.loadmat('test.mat')\n",
    "loss_tensor=test['loss_tensor']\n",
    "input_tensors=test['input_tensors']\n"
   ]
  },
  {
   "cell_type": "code",
   "execution_count": null,
   "metadata": {},
   "outputs": [],
   "source": [
    "print(input_tensors)"
   ]
  },
  {
   "cell_type": "code",
   "execution_count": 61,
   "metadata": {},
   "outputs": [
    {
     "ename": "FileNotFoundError",
     "evalue": "[Errno 2] No such file or directory: 'temp.mat'",
     "output_type": "error",
     "traceback": [
      "\u001b[0;31m---------------------------------------------------------------------------\u001b[0m",
      "\u001b[0;31mFileNotFoundError\u001b[0m                         Traceback (most recent call last)",
      "\u001b[0;32m/glade/work/fanda/conda-envs/hwtmode/lib/python3.7/site-packages/scipy/io/matlab/mio.py\u001b[0m in \u001b[0;36m_open_file\u001b[0;34m(file_like, appendmat, mode)\u001b[0m\n\u001b[1;32m     38\u001b[0m     \u001b[0;32mtry\u001b[0m\u001b[0;34m:\u001b[0m\u001b[0;34m\u001b[0m\u001b[0;34m\u001b[0m\u001b[0m\n\u001b[0;32m---> 39\u001b[0;31m         \u001b[0;32mreturn\u001b[0m \u001b[0mopen\u001b[0m\u001b[0;34m(\u001b[0m\u001b[0mfile_like\u001b[0m\u001b[0;34m,\u001b[0m \u001b[0mmode\u001b[0m\u001b[0;34m)\u001b[0m\u001b[0;34m,\u001b[0m \u001b[0;32mTrue\u001b[0m\u001b[0;34m\u001b[0m\u001b[0;34m\u001b[0m\u001b[0m\n\u001b[0m\u001b[1;32m     40\u001b[0m     \u001b[0;32mexcept\u001b[0m \u001b[0mIOError\u001b[0m \u001b[0;32mas\u001b[0m \u001b[0me\u001b[0m\u001b[0;34m:\u001b[0m\u001b[0;34m\u001b[0m\u001b[0;34m\u001b[0m\u001b[0m\n",
      "\u001b[0;31mFileNotFoundError\u001b[0m: [Errno 2] No such file or directory: 'temp.mat'",
      "\nDuring handling of the above exception, another exception occurred:\n",
      "\u001b[0;31mFileNotFoundError\u001b[0m                         Traceback (most recent call last)",
      "\u001b[0;32m/glade/scratch/fanda/ipykernel_95651/1474408643.py\u001b[0m in \u001b[0;36m<module>\u001b[0;34m\u001b[0m\n\u001b[1;32m     13\u001b[0m \u001b[0mtf\u001b[0m\u001b[0;34m.\u001b[0m\u001b[0mcompat\u001b[0m\u001b[0;34m.\u001b[0m\u001b[0mv1\u001b[0m\u001b[0;34m.\u001b[0m\u001b[0mexperimental\u001b[0m\u001b[0;34m.\u001b[0m\u001b[0moutput_all_intermediates\u001b[0m\u001b[0;34m(\u001b[0m\u001b[0;32mTrue\u001b[0m\u001b[0;34m)\u001b[0m\u001b[0;34m\u001b[0m\u001b[0;34m\u001b[0m\u001b[0m\n\u001b[1;32m     14\u001b[0m \u001b[0;32mimport\u001b[0m \u001b[0mscipy\u001b[0m\u001b[0;34m.\u001b[0m\u001b[0mio\u001b[0m \u001b[0;32mas\u001b[0m \u001b[0mscio\u001b[0m\u001b[0;34m\u001b[0m\u001b[0;34m\u001b[0m\u001b[0m\n\u001b[0;32m---> 15\u001b[0;31m \u001b[0mtemp\u001b[0m\u001b[0;34m=\u001b[0m\u001b[0mscio\u001b[0m\u001b[0;34m.\u001b[0m\u001b[0mloadmat\u001b[0m\u001b[0;34m(\u001b[0m\u001b[0;34m'temp.mat'\u001b[0m\u001b[0;34m)\u001b[0m\u001b[0;34m\u001b[0m\u001b[0;34m\u001b[0m\u001b[0m\n\u001b[0m\u001b[1;32m     16\u001b[0m \u001b[0mbest_hits_matrix_norm\u001b[0m\u001b[0;34m=\u001b[0m\u001b[0mtemp\u001b[0m\u001b[0;34m[\u001b[0m\u001b[0;34m'best_hits_matrix_norm'\u001b[0m\u001b[0;34m]\u001b[0m\u001b[0;34m\u001b[0m\u001b[0;34m\u001b[0m\u001b[0m\n\u001b[1;32m     17\u001b[0m \u001b[0mpmm_best_hits_matrix_denorm\u001b[0m\u001b[0;34m=\u001b[0m\u001b[0mtemp\u001b[0m\u001b[0;34m[\u001b[0m\u001b[0;34m'pmm_best_hits_matrix_denorm'\u001b[0m\u001b[0;34m]\u001b[0m\u001b[0;34m\u001b[0m\u001b[0;34m\u001b[0m\u001b[0m\n",
      "\u001b[0;32m/glade/work/fanda/conda-envs/hwtmode/lib/python3.7/site-packages/scipy/io/matlab/mio.py\u001b[0m in \u001b[0;36mloadmat\u001b[0;34m(file_name, mdict, appendmat, **kwargs)\u001b[0m\n\u001b[1;32m    222\u001b[0m     \"\"\"\n\u001b[1;32m    223\u001b[0m     \u001b[0mvariable_names\u001b[0m \u001b[0;34m=\u001b[0m \u001b[0mkwargs\u001b[0m\u001b[0;34m.\u001b[0m\u001b[0mpop\u001b[0m\u001b[0;34m(\u001b[0m\u001b[0;34m'variable_names'\u001b[0m\u001b[0;34m,\u001b[0m \u001b[0;32mNone\u001b[0m\u001b[0;34m)\u001b[0m\u001b[0;34m\u001b[0m\u001b[0;34m\u001b[0m\u001b[0m\n\u001b[0;32m--> 224\u001b[0;31m     \u001b[0;32mwith\u001b[0m \u001b[0m_open_file_context\u001b[0m\u001b[0;34m(\u001b[0m\u001b[0mfile_name\u001b[0m\u001b[0;34m,\u001b[0m \u001b[0mappendmat\u001b[0m\u001b[0;34m)\u001b[0m \u001b[0;32mas\u001b[0m \u001b[0mf\u001b[0m\u001b[0;34m:\u001b[0m\u001b[0;34m\u001b[0m\u001b[0;34m\u001b[0m\u001b[0m\n\u001b[0m\u001b[1;32m    225\u001b[0m         \u001b[0mMR\u001b[0m\u001b[0;34m,\u001b[0m \u001b[0m_\u001b[0m \u001b[0;34m=\u001b[0m \u001b[0mmat_reader_factory\u001b[0m\u001b[0;34m(\u001b[0m\u001b[0mf\u001b[0m\u001b[0;34m,\u001b[0m \u001b[0;34m**\u001b[0m\u001b[0mkwargs\u001b[0m\u001b[0;34m)\u001b[0m\u001b[0;34m\u001b[0m\u001b[0;34m\u001b[0m\u001b[0m\n\u001b[1;32m    226\u001b[0m         \u001b[0mmatfile_dict\u001b[0m \u001b[0;34m=\u001b[0m \u001b[0mMR\u001b[0m\u001b[0;34m.\u001b[0m\u001b[0mget_variables\u001b[0m\u001b[0;34m(\u001b[0m\u001b[0mvariable_names\u001b[0m\u001b[0;34m)\u001b[0m\u001b[0;34m\u001b[0m\u001b[0;34m\u001b[0m\u001b[0m\n",
      "\u001b[0;32m/glade/work/fanda/conda-envs/hwtmode/lib/python3.7/contextlib.py\u001b[0m in \u001b[0;36m__enter__\u001b[0;34m(self)\u001b[0m\n\u001b[1;32m    110\u001b[0m         \u001b[0;32mdel\u001b[0m \u001b[0mself\u001b[0m\u001b[0;34m.\u001b[0m\u001b[0margs\u001b[0m\u001b[0;34m,\u001b[0m \u001b[0mself\u001b[0m\u001b[0;34m.\u001b[0m\u001b[0mkwds\u001b[0m\u001b[0;34m,\u001b[0m \u001b[0mself\u001b[0m\u001b[0;34m.\u001b[0m\u001b[0mfunc\u001b[0m\u001b[0;34m\u001b[0m\u001b[0;34m\u001b[0m\u001b[0m\n\u001b[1;32m    111\u001b[0m         \u001b[0;32mtry\u001b[0m\u001b[0;34m:\u001b[0m\u001b[0;34m\u001b[0m\u001b[0;34m\u001b[0m\u001b[0m\n\u001b[0;32m--> 112\u001b[0;31m             \u001b[0;32mreturn\u001b[0m \u001b[0mnext\u001b[0m\u001b[0;34m(\u001b[0m\u001b[0mself\u001b[0m\u001b[0;34m.\u001b[0m\u001b[0mgen\u001b[0m\u001b[0;34m)\u001b[0m\u001b[0;34m\u001b[0m\u001b[0;34m\u001b[0m\u001b[0m\n\u001b[0m\u001b[1;32m    113\u001b[0m         \u001b[0;32mexcept\u001b[0m \u001b[0mStopIteration\u001b[0m\u001b[0;34m:\u001b[0m\u001b[0;34m\u001b[0m\u001b[0;34m\u001b[0m\u001b[0m\n\u001b[1;32m    114\u001b[0m             \u001b[0;32mraise\u001b[0m \u001b[0mRuntimeError\u001b[0m\u001b[0;34m(\u001b[0m\u001b[0;34m\"generator didn't yield\"\u001b[0m\u001b[0;34m)\u001b[0m \u001b[0;32mfrom\u001b[0m \u001b[0;32mNone\u001b[0m\u001b[0;34m\u001b[0m\u001b[0;34m\u001b[0m\u001b[0m\n",
      "\u001b[0;32m/glade/work/fanda/conda-envs/hwtmode/lib/python3.7/site-packages/scipy/io/matlab/mio.py\u001b[0m in \u001b[0;36m_open_file_context\u001b[0;34m(file_like, appendmat, mode)\u001b[0m\n\u001b[1;32m     15\u001b[0m \u001b[0;34m@\u001b[0m\u001b[0mcontextmanager\u001b[0m\u001b[0;34m\u001b[0m\u001b[0;34m\u001b[0m\u001b[0m\n\u001b[1;32m     16\u001b[0m \u001b[0;32mdef\u001b[0m \u001b[0m_open_file_context\u001b[0m\u001b[0;34m(\u001b[0m\u001b[0mfile_like\u001b[0m\u001b[0;34m,\u001b[0m \u001b[0mappendmat\u001b[0m\u001b[0;34m,\u001b[0m \u001b[0mmode\u001b[0m\u001b[0;34m=\u001b[0m\u001b[0;34m'rb'\u001b[0m\u001b[0;34m)\u001b[0m\u001b[0;34m:\u001b[0m\u001b[0;34m\u001b[0m\u001b[0;34m\u001b[0m\u001b[0m\n\u001b[0;32m---> 17\u001b[0;31m     \u001b[0mf\u001b[0m\u001b[0;34m,\u001b[0m \u001b[0mopened\u001b[0m \u001b[0;34m=\u001b[0m \u001b[0m_open_file\u001b[0m\u001b[0;34m(\u001b[0m\u001b[0mfile_like\u001b[0m\u001b[0;34m,\u001b[0m \u001b[0mappendmat\u001b[0m\u001b[0;34m,\u001b[0m \u001b[0mmode\u001b[0m\u001b[0;34m)\u001b[0m\u001b[0;34m\u001b[0m\u001b[0;34m\u001b[0m\u001b[0m\n\u001b[0m\u001b[1;32m     18\u001b[0m     \u001b[0;32mtry\u001b[0m\u001b[0;34m:\u001b[0m\u001b[0;34m\u001b[0m\u001b[0;34m\u001b[0m\u001b[0m\n\u001b[1;32m     19\u001b[0m         \u001b[0;32myield\u001b[0m \u001b[0mf\u001b[0m\u001b[0;34m\u001b[0m\u001b[0;34m\u001b[0m\u001b[0m\n",
      "\u001b[0;32m/glade/work/fanda/conda-envs/hwtmode/lib/python3.7/site-packages/scipy/io/matlab/mio.py\u001b[0m in \u001b[0;36m_open_file\u001b[0;34m(file_like, appendmat, mode)\u001b[0m\n\u001b[1;32m     43\u001b[0m             \u001b[0;32mif\u001b[0m \u001b[0mappendmat\u001b[0m \u001b[0;32mand\u001b[0m \u001b[0;32mnot\u001b[0m \u001b[0mfile_like\u001b[0m\u001b[0;34m.\u001b[0m\u001b[0mendswith\u001b[0m\u001b[0;34m(\u001b[0m\u001b[0;34m'.mat'\u001b[0m\u001b[0;34m)\u001b[0m\u001b[0;34m:\u001b[0m\u001b[0;34m\u001b[0m\u001b[0;34m\u001b[0m\u001b[0m\n\u001b[1;32m     44\u001b[0m                 \u001b[0mfile_like\u001b[0m \u001b[0;34m+=\u001b[0m \u001b[0;34m'.mat'\u001b[0m\u001b[0;34m\u001b[0m\u001b[0;34m\u001b[0m\u001b[0m\n\u001b[0;32m---> 45\u001b[0;31m             \u001b[0;32mreturn\u001b[0m \u001b[0mopen\u001b[0m\u001b[0;34m(\u001b[0m\u001b[0mfile_like\u001b[0m\u001b[0;34m,\u001b[0m \u001b[0mmode\u001b[0m\u001b[0;34m)\u001b[0m\u001b[0;34m,\u001b[0m \u001b[0;32mTrue\u001b[0m\u001b[0;34m\u001b[0m\u001b[0;34m\u001b[0m\u001b[0m\n\u001b[0m\u001b[1;32m     46\u001b[0m         \u001b[0;32melse\u001b[0m\u001b[0;34m:\u001b[0m\u001b[0;34m\u001b[0m\u001b[0;34m\u001b[0m\u001b[0m\n\u001b[1;32m     47\u001b[0m             raise IOError(\n",
      "\u001b[0;31mFileNotFoundError\u001b[0m: [Errno 2] No such file or directory: 'temp.mat'"
     ]
    }
   ],
   "source": [
    "#config = tf.compat.v1.ConfigProto\n",
    "#import keras\n",
    "#session = keras.backend.get_session()\n",
    "#init = tf.global_variables_initializer()\n",
    "#session.run(init)\n",
    "#my_model = utils.read_dense_net(\"goes16ci_model_cpu_lead10_allIR.h5\")\n",
    "#my_model.summary()\n",
    "#import tensorflow._api.v2.compat.v1 as tf\n",
    "#tf.compat.v1.disable_eager_execution()\n",
    "#tf.disable_v2_behavior()\n",
    "import tensorflow as tf\n",
    "tf.compat.v1.disable_eager_execution()\n",
    "tf.compat.v1.experimental.output_all_intermediates(True)\n",
    "import scipy.io as scio\n",
    "temp=scio.loadmat('temp.mat')\n",
    "best_hits_matrix_norm=temp['best_hits_matrix_norm']\n",
    "pmm_best_hits_matrix_denorm=temp['pmm_best_hits_matrix_denorm']\n",
    "input_times_grad(best_hits_matrix_norm[:,:,:,:], pmm_best_hits_matrix_denorm)"
   ]
  },
  {
   "cell_type": "code",
   "execution_count": null,
   "metadata": {},
   "outputs": [],
   "source": [
    "print(my_model.input)"
   ]
  },
  {
   "cell_type": "code",
   "execution_count": null,
   "metadata": {},
   "outputs": [],
   "source": [
    "tensor_train_images = tf.convert_to_tensor(train_images, dtype=tf.float32)\n",
    "with tf.GradientTape() as tape:\n",
    "    tape.watch(tensor_train_images)\n",
    "    model.evaluate(x=tensor_train_images,y=train_labels, steps=10)\n",
    "print(tape.gradient(model.total_loss,tensor_train_images))"
   ]
  },
  {
   "cell_type": "code",
   "execution_count": null,
   "metadata": {},
   "outputs": [],
   "source": [
    "import tensorflow.python.keras.backend as K\n",
    "loss=tf.convert_to_tensor([1], dtype=tf.float32)\n",
    "var=tf.convert_to_tensor([2], dtype=tf.float32)\n",
    "with tf.GradientTape() as tape:\n",
    "    a=1\n",
    "a=tape.gradient(loss, var)"
   ]
  },
  {
   "cell_type": "code",
   "execution_count": null,
   "metadata": {},
   "outputs": [],
   "source": [
    "print(loss)"
   ]
  },
  {
   "cell_type": "code",
   "execution_count": null,
   "metadata": {},
   "outputs": [],
   "source": [
    "best_hits_matrix_norm[0].shape"
   ]
  },
  {
   "cell_type": "code",
   "execution_count": null,
   "metadata": {},
   "outputs": [],
   "source": [
    "with tf.GradientTape() as tape:\n",
    "         print('ok')"
   ]
  },
  {
   "cell_type": "code",
   "execution_count": null,
   "metadata": {},
   "outputs": [],
   "source": [
    "pmm_best_hits_matrix_denorm.shape"
   ]
  },
  {
   "cell_type": "code",
   "execution_count": null,
   "metadata": {},
   "outputs": [],
   "source": [
    "!pip install tensorflow==2.4.0 --user"
   ]
  },
  {
   "cell_type": "code",
   "execution_count": null,
   "metadata": {},
   "outputs": [],
   "source": [
    "ch = np.arange(8,15)\n",
    "print(ch)\n",
    "import shap\n",
    "import numpy as np\n",
    "\n",
    "# select a set of background examples to take an expectation over\n",
    "background = x_train[np.random.choice(x_train.shape[0], 100, replace=False)]\n",
    "\n",
    "# explain predictions of the model on three images\n",
    "e = shap.DeepExplainer(model, background)\n",
    "# ...or pass tensors directly\n",
    "# e = shap.DeepExplainer((model.layers[0].input, model.layers[-1].output), background)\n",
    "shap_values = e.shap_values(x_test[1:5])"
   ]
  },
  {
   "cell_type": "code",
   "execution_count": null,
   "metadata": {},
   "outputs": [],
   "source": [
    "print(np.shape(test_data_scaled))"
   ]
  },
  {
   "cell_type": "code",
   "execution_count": null,
   "metadata": {},
   "outputs": [],
   "source": [
    "import shap\n",
    "\n",
    "# since we have two inputs we pass a list of inputs to the explainer\n",
    "explainer = shap.GradientExplainer(my_model, [test_data_scaled, test_data_scaled])\n",
    "\n",
    "# we explain the model's predictions on the first three samples of the test set\n",
    "shap_values = explainer.shap_values([test_data_scaled[3,:,:,:]])\n",
    "# plot the feature attributions\n",
    "#shap.image_plot(shap_values, -test_data_scaled[100:105,:,:,:])"
   ]
  },
  {
   "cell_type": "code",
   "execution_count": null,
   "metadata": {},
   "outputs": [],
   "source": [
    "!pip install tf-explain --user"
   ]
  },
  {
   "cell_type": "code",
   "execution_count": null,
   "metadata": {},
   "outputs": [],
   "source": [
    "import shap\n",
    "shap_values = shap.DeepExplainer(my_model).shap_values(test_data_scaled)\n",
    "shap.summary_plot(shap_values, test_data_scaled, plot_type=\"bar\")"
   ]
  },
  {
   "cell_type": "code",
   "execution_count": null,
   "metadata": {},
   "outputs": [],
   "source": [
    "!pip install tensorflow==2.6.0 --user"
   ]
  },
  {
   "cell_type": "code",
   "execution_count": null,
   "metadata": {},
   "outputs": [],
   "source": [
    "from tf_explain.callbacks.activations_visualization import ActivationsVisualizationCallback\n",
    "callbacks = [\n",
    "    ActivationsVisualizationCallback(\n",
    "        validation_data=(test_data_scaled, test_label),\n",
    "        layers_name=[\"activation_1\"],\n",
    "        output_dir='.',\n",
    "    ),\n",
    "]\n",
    "\n",
    "my_model.fit(test_data_scaled, test_label, batch_size=1024, epochs=2, callbacks=callbacks)\n"
   ]
  },
  {
   "cell_type": "code",
   "execution_count": null,
   "metadata": {},
   "outputs": [],
   "source": [
    "def plot_storm_array(predictor_matrix, labels, contour=False):\n",
    "    \"\"\"Plots each channel of a storm-centered raster loaded from NetCDF file.\n",
    "    M = number of rows in each storm-centered grid\n",
    "    N = number of columns in each storm-centered grid\n",
    "    C = number of channels (predictor variables)\n",
    "    \n",
    "    :param predictor_matrix: M-by-N-by-C numpy array of predictor values.\n",
    "    :param labels: C-length list of feature names to label each output. \n",
    "  \"\"\"\n",
    "\n",
    "    fig, ax = plt.subplots(1, len(labels), figsize=(15, 3))\n",
    "    for i in range(len(labels)):\n",
    "\n",
    "        # Contour plot\n",
    "        if contour:\n",
    "          a=ax[i].contourf(predictor_matrix[:,:,i])\n",
    "          if i == 0:\n",
    "            b=a\n",
    "        # Image plot\n",
    "        else:\n",
    "          ax[i].imshow(predictor_matrix[:,:,i])\n",
    "          ax[i].invert_yaxis()\n",
    "\n",
    "        ax[i].set_title(labels[i])\n",
    "        ax[i].axis('off')\n",
    "    fig.colorbar(a, orientation='vertical')\n",
    "print(\"Sample storm image:\")\n",
    "feature_names=['CH8','CH9','CH10','CH11','CH12','CH13','CH14',]\n",
    "print(test_label[10])\n",
    "plot_storm_array(test_data_scaled[10,:,:,:], labels=feature_names, contour=True)"
   ]
  },
  {
   "cell_type": "code",
   "execution_count": null,
   "metadata": {},
   "outputs": [],
   "source": [
    "if os.path.isdir('course_repository'):\n",
    "    shutil.rmtree('course_repository')\n",
    "!git clone https://github.com/thunderhoser/ai2es_xai_course course_repository"
   ]
  },
  {
   "cell_type": "code",
   "execution_count": null,
   "metadata": {},
   "outputs": [],
   "source": [
    "!pip install dill --user"
   ]
  },
  {
   "cell_type": "code",
   "execution_count": null,
   "metadata": {},
   "outputs": [],
   "source": [
    "sys.path.append('/storage/home/dxf424/work/script/course_repository/')\n",
    "from ai2es_xai_course.plotting import image_plotting, feature_map_plotting\n",
    "from ai2es_xai_course.utils import utils, image_utils, image_normalization, \\\n",
    "    image_thresholding, cnn, saliency"
   ]
  },
  {
   "cell_type": "code",
   "execution_count": null,
   "metadata": {},
   "outputs": [],
   "source": [
    "import pythran\n",
    "!cd course_repository; python setup.py install --user"
   ]
  },
  {
   "cell_type": "code",
   "execution_count": null,
   "metadata": {},
   "outputs": [],
   "source": [
    "!pip install pythran --user"
   ]
  },
  {
   "cell_type": "code",
   "execution_count": null,
   "metadata": {},
   "outputs": [],
   "source": [
    "print(image_utils.PREDICTOR_MATRIX_KEY)"
   ]
  },
  {
   "cell_type": "code",
   "execution_count": null,
   "metadata": {},
   "outputs": [],
   "source": [
    "data = test_data_scaled\n",
    "predictor_matrix_denorm = data[image_utils.PREDICTOR_MATRIX_KEY]\n",
    "predictor_names = data[image_utils.PREDICTOR_NAMES_KEY]\n",
    "predictor_matrix_norm = image_normalization.normalize_data(\n",
    "    predictor_matrix=copy.deepcopy(predictor_matrix_denorm),\n",
    "    predictor_names=predictor_names, normalization_dict=image_normalization_dict\n",
    ")\n",
    "\n",
    "# Predict the first 5\n",
    "preds = my_model.predict(predictor_matrix_norm[0][0:5,:])\n",
    "print(preds)"
   ]
  },
  {
   "cell_type": "code",
   "execution_count": null,
   "metadata": {},
   "outputs": [],
   "source": [
    "from tf_explain.core.grad_cam import GradCAM\n",
    "explainer = GradCAM()\n",
    "grid = explainer.explain((test_data_scaled[1:3,:,:,:],None), my_model, class_index=1)  # 281 is the tabby cat index in ImageNet\n",
    "\n",
    "explainer.save(grid, \".\", \"grad_cam.png\")"
   ]
  },
  {
   "cell_type": "code",
   "execution_count": null,
   "metadata": {},
   "outputs": [],
   "source": [
    "import xgboost\n",
    "import shap\n",
    "\n",
    "# train an XGBoost model\n",
    "X, y = shap.datasets.boston()\n",
    "model = xgboost.XGBRegressor().fit(X, y)\n",
    "\n",
    "# explain the model's predictions using SHAP\n",
    "# (same syntax works for LightGBM, CatBoost, scikit-learn, transformers, Spark, etc.)\n",
    "explainer = shap.Explainer(model)\n",
    "shap_values = explainer(X)\n",
    "\n",
    "# visualize the first prediction's explanation\n",
    "shap.plots.waterfall(shap_values[0])"
   ]
  },
  {
   "cell_type": "code",
   "execution_count": null,
   "metadata": {},
   "outputs": [],
   "source": [
    "test_data_scaled[1:5].shape"
   ]
  },
  {
   "cell_type": "code",
   "execution_count": null,
   "metadata": {},
   "outputs": [],
   "source": [
    "import shap\n",
    "import numpy as np\n",
    "\n",
    "# select a set of background examples to take an expectation over\n",
    "background = test_data_scaled[np.random.choice(test_data_scaled.shape[0], 100, replace=False)]\n",
    "\n",
    "# explain predictions of the model on four images\n",
    "e = shap.DeepExplainer(my_model, background)\n",
    "# ...or pass tensors directly\n",
    "# e = shap.DeepExplainer((model.layers[0].input, model.layers[-1].output), background)\n",
    "shap_values = e.shap_values(test_data_scaled[1:5])\n",
    "\n",
    "# plot the feature attributions\n",
    "shap.image_plot(shap_values, -test_data_scaled[1:5])"
   ]
  },
  {
   "cell_type": "code",
   "execution_count": null,
   "metadata": {},
   "outputs": [],
   "source": [
    "!pip install xgboost --user"
   ]
  },
  {
   "cell_type": "code",
   "execution_count": null,
   "metadata": {},
   "outputs": [],
   "source": [
    "explainer = GradCAM()\n",
    "grid = explainer.explain(data, model, class_index=281)  # 281 is the tabby cat index in ImageNet\n",
    "\n",
    "explainer.save(grid, \".\", \"grad_cam.png\")"
   ]
  },
  {
   "cell_type": "code",
   "execution_count": null,
   "metadata": {},
   "outputs": [],
   "source": [
    "from tf_explain.callbacks.vanilla_gradients import VanillaGradientsCallback\n",
    "\n",
    "model = [...]\n",
    "\n",
    "callbacks = [\n",
    "    VanillaGradientsCallback(\n",
    "        validation_data=(test_data_scaled, test_label),\n",
    "        class_index=0,\n",
    "        output_dir='.',\n",
    "    ),\n",
    "]\n",
    "\n",
    "my_model.fit(test_data_scaled, test_label, batch_size=1024, epochs=2, callbacks=callbacks)"
   ]
  },
  {
   "cell_type": "code",
   "execution_count": null,
   "metadata": {},
   "outputs": [],
   "source": [
    "GOES-only(lead_time=10):POD: 0.8597816960537363, POFD: 0.587152516904583, FAR: 0.43284408751038495, SR: 0.567155912489615, CSI:0.5191381495564005"
   ]
  },
  {
   "cell_type": "code",
   "execution_count": null,
   "metadata": {},
   "outputs": [],
   "source": [
    "index = (binary_preds==0) & (test_label==1)"
   ]
  },
  {
   "cell_type": "code",
   "execution_count": null,
   "metadata": {},
   "outputs": [],
   "source": [
    "np.sum(index)"
   ]
  },
  {
   "cell_type": "code",
   "execution_count": null,
   "metadata": {},
   "outputs": [],
   "source": []
  }
 ],
 "metadata": {
  "kernelspec": {
   "display_name": "Python 3 (ipykernel)",
   "language": "python",
   "name": "python3"
  },
  "language_info": {
   "codemirror_mode": {
    "name": "ipython",
    "version": 3
   },
   "file_extension": ".py",
   "mimetype": "text/x-python",
   "name": "python",
   "nbconvert_exporter": "python",
   "pygments_lexer": "ipython3",
   "version": "3.7.12"
  }
 },
 "nbformat": 4,
 "nbformat_minor": 4
}
